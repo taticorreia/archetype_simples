{
 "cells": [
  {
   "cell_type": "code",
   "execution_count": 4,
   "metadata": {},
   "outputs": [],
   "source": [
    "import os"
   ]
  },
  {
   "cell_type": "code",
   "execution_count": 5,
   "metadata": {},
   "outputs": [],
   "source": [
    "from func_abstrata import Abstrata\n",
    "import to_trusted as T"
   ]
  },
  {
   "cell_type": "code",
   "execution_count": null,
   "metadata": {},
   "outputs": [],
   "source": [
    "def teste_process(self):\n",
    "    path = os.path.dirname(__file__)\n",
    "    print(path)\n",
    "    "
   ]
  },
  {
   "cell_type": "code",
   "execution_count": 7,
   "metadata": {},
   "outputs": [],
   "source": [
    "teste_process"
   ]
  },
  {
   "cell_type": "code",
   "execution_count": null,
   "metadata": {},
   "outputs": [],
   "source": [
    "class ToTrustedTest():\n",
    "\n",
    "    def __init__(self,path_from, path_to):\n",
    "        super(ToTrusted, self).__init__(path_from, path_to)\n",
    "\n",
    "    def processa(self):\n",
    "        df = pd.read_csv(self.path_from, sep=\",\")\n",
    "        df = df.dropna()\n",
    "        df.to_csv(self.path_to)\n"
   ]
  },
  {
   "cell_type": "code",
   "execution_count": 6,
   "metadata": {},
   "outputs": [],
   "source": [
    "\n",
    "class ToTrustedTest(unittest.TestCase):\n",
    "\n",
    "    def __init__(self, *args, **kwargs):\n",
    "        super(ToTrustedTest, self).__init__(*args, **kwargs)\n",
    "\n",
    "    def test_process(self):\n",
    "\n",
    "        # Define files path\n",
    "        path = os.path.dirname(__file__)\n",
    "        fr_path = '{}/../../locallake/raw/students.csv'.format(path)\n",
    "        to_path = '{}/../../locallake/trusted/students'.format(path)\n",
    "\n",
    "        # Process data\n",
    "        processor = T.ToTrusted(fr_path, to_path)\n",
    "        processor.process()\n",
    "\n",
    "        # Check saved data\n",
    "        spark = SparkSession.builder.getOrCreate()\n",
    "        df = spark.read.format('delta').load(to_path)\n",
    "\n",
    "        self.assertEqual(5, df.count())\n",
    "\n",
    "        values = df.groupBy(['genre']).count().orderBy(['count']).collect()\n",
    "\n",
    "        self.assertEqual(2, values[0]['count'])\n",
    "        self.assertEqual(3, values[1]['count'])\n"
   ]
  },
  {
   "cell_type": "code",
   "execution_count": 9,
   "metadata": {},
   "outputs": [],
   "source": [
    "from apenas_teste import Computador"
   ]
  },
  {
   "cell_type": "code",
   "execution_count": 10,
   "metadata": {},
   "outputs": [],
   "source": [
    "computador1 = Computador('Asus','10g')"
   ]
  },
  {
   "cell_type": "code",
   "execution_count": 12,
   "metadata": {},
   "outputs": [
    {
     "data": {
      "text/plain": [
       "'Asus'"
      ]
     },
     "execution_count": 12,
     "metadata": {},
     "output_type": "execute_result"
    }
   ],
   "source": [
    "computador1.marca"
   ]
  },
  {
   "cell_type": "code",
   "execution_count": null,
   "metadata": {},
   "outputs": [],
   "source": []
  }
 ],
 "metadata": {
  "kernelspec": {
   "display_name": "Python 3",
   "language": "python",
   "name": "python3"
  },
  "language_info": {
   "codemirror_mode": {
    "name": "ipython",
    "version": 3
   },
   "file_extension": ".py",
   "mimetype": "text/x-python",
   "name": "python",
   "nbconvert_exporter": "python",
   "pygments_lexer": "ipython3",
   "version": "3.8.5"
  }
 },
 "nbformat": 4,
 "nbformat_minor": 4
}
