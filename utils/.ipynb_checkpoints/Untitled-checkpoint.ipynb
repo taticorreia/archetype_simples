{
 "cells": [
  {
   "cell_type": "code",
   "execution_count": 4,
   "metadata": {},
   "outputs": [],
   "source": [
    "import os"
   ]
  },
  {
   "cell_type": "code",
   "execution_count": 5,
   "metadata": {},
   "outputs": [],
   "source": [
    "from func_abstrata import Abstrata\n",
    "import to_trusted as T"
   ]
  },
  {
   "cell_type": "code",
   "execution_count": null,
   "metadata": {},
   "outputs": [],
   "source": [
    "def teste_process(self):\n",
    "    path = os.path.dirname(__file__)\n",
    "    print(path)\n",
    "    "
   ]
  },
  {
   "cell_type": "code",
   "execution_count": null,
   "metadata": {},
   "outputs": [],
   "source": [
    "\n",
    "class ToTrustedTest(unittest.TestCase):\n",
    "\n",
    "    def __init__(self, *args, **kwargs):\n",
    "        super(ToTrustedTest, self).__init__(*args, **kwargs)\n",
    "\n",
    "    def test_process(self):\n",
    "\n",
    "        # Define files path\n",
    "        path = os.path.dirname(__file__)\n",
    "        fr_path = '{}/../../locallake/raw/students.csv'.format(path)\n",
    "        to_path = '{}/../../locallake/trusted/students'.format(path)\n",
    "\n",
    "        # Process data\n",
    "        processor = T.ToTrusted(fr_path, to_path)\n",
    "        processor.process()\n",
    "\n",
    "        # Check saved data\n",
    "        spark = SparkSession.builder.getOrCreate()\n",
    "        df = spark.read.format('delta').load(to_path)\n",
    "\n",
    "        self.assertEqual(5, df.count())\n",
    "\n",
    "        values = df.groupBy(['genre']).count().orderBy(['count']).collect()\n",
    "\n",
    "        self.assertEqual(2, values[0]['count'])\n",
    "        self.assertEqual(3, values[1]['count'])\n"
   ]
  }
 ],
 "metadata": {
  "kernelspec": {
   "display_name": "Python 3",
   "language": "python",
   "name": "python3"
  },
  "language_info": {
   "codemirror_mode": {
    "name": "ipython",
    "version": 3
   },
   "file_extension": ".py",
   "mimetype": "text/x-python",
   "name": "python",
   "nbconvert_exporter": "python",
   "pygments_lexer": "ipython3",
   "version": "3.8.5"
  }
 },
 "nbformat": 4,
 "nbformat_minor": 4
}
